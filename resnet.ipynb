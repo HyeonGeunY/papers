{
  "nbformat": 4,
  "nbformat_minor": 0,
  "metadata": {
    "colab": {
      "name": "resnet.ipynb",
      "provenance": [],
      "collapsed_sections": [],
      "authorship_tag": "ABX9TyM0MMg/jiyLTKYfdvvwbHWK",
      "include_colab_link": true
    },
    "kernelspec": {
      "name": "python3",
      "display_name": "Python 3"
    },
    "language_info": {
      "name": "python"
    }
  },
  "cells": [
    {
      "cell_type": "markdown",
      "metadata": {
        "id": "view-in-github",
        "colab_type": "text"
      },
      "source": [
        "<a href=\"https://colab.research.google.com/github/HyeonGeunY/papers/blob/main/resnet.ipynb\" target=\"_parent\"><img src=\"https://colab.research.google.com/assets/colab-badge.svg\" alt=\"Open In Colab\"/></a>"
      ]
    },
    {
      "cell_type": "markdown",
      "source": [
        "# Import"
      ],
      "metadata": {
        "id": "DfauT5nQBvmL"
      }
    },
    {
      "cell_type": "code",
      "execution_count": 13,
      "metadata": {
        "id": "7tpkObHI2yb1"
      },
      "outputs": [],
      "source": [
        "import torch\n",
        "import torch.nn as nn\n",
        "import torch.nn.functional as F\n",
        "import torch.backends.cudnn as cudnn\n",
        "import torch.optim as optim\n",
        "import os\n",
        "from typing import List"
      ]
    },
    {
      "cell_type": "code",
      "source": [
        "class ShortcutBlock(nn.Module):\n",
        "    def __init__(self, in_channels: int, out_channels: int, stride: int):\n",
        "        super().__init__()\n",
        "        self.conv = nn.Conv2d(in_channels, out_channels, stride=stride)\n",
        "        self.bn = nn.BatchNorm2d(out_channels)\n",
        "\n",
        "    def forward(self, x: torch.Tensor):\n",
        "        return self.bn(self.conv(x))"
      ],
      "metadata": {
        "id": "C4fjbwcRNHeW"
      },
      "execution_count": 6,
      "outputs": []
    },
    {
      "cell_type": "code",
      "source": [
        "class ResidualBlock(nn.Module):\n",
        "    def __init__(self, in_channels: int, out_channels: int, stride: int = 1):\n",
        "        super().__init__()\n",
        "        self.conv1 = nn.Conv2d(in_channels, out_channels, kernel_size=3, stride=stride, padding=1)\n",
        "        self.bn1 = nn.BatchNorm2d(out_channels)\n",
        "        self.act1 = nn.ReLU()\n",
        "        self.conv2 = nn.Conv2d(out_channels, out_channels, kernel_size=3, stride=1, padding=1)\n",
        "        self.bn2 = nn.BatchNorm2d(out_channels)\n",
        "\n",
        "        self.shortcut = nn.Identity()\n",
        "        if stride != 1 or in_channels != out_channels:\n",
        "            self.shortcut = ShortcutBlock(in_channels=in_channels, out_channels=out_channels, stride=stride)\n",
        "        \n",
        "        self.act2 = nn.ReLU()\n",
        "\n",
        "    def forward(self, x: torch.Tensor):\n",
        "        shortcut = self.shortcut(x)\n",
        "        x = self.bn2(self.conv2(self.act1(self.bn1(self.conv(x)))))\n",
        "        return self.act2(x + shortcut)\n"
      ],
      "metadata": {
        "id": "GndjVgqZCV8i"
      },
      "execution_count": 8,
      "outputs": []
    },
    {
      "cell_type": "code",
      "source": [
        "class BottleNeckBlock(nn.Module):\n",
        "    def __init__(self, in_channels, bottle_channels, out_channels, stride=1):\n",
        "        super().__init__()\n",
        "        self.conv1 = nn.Conv2d(in_channels, bottle_channels, kernel_size=1, stride=stride, padding=1)\n",
        "        self.bn1 = nn.BatchNorm2d(bottle_channels)\n",
        "        self.act1 = nn.ReLU()\n",
        "\n",
        "        self.conv2 = nn.Conv2d(bottle_channels, bottle_channels, kernel_size=3, stride=1, padding=1)\n",
        "        self.bn2 = nn.BatchNorm2d(bottle_channels)\n",
        "        self.act2 = nn.ReLU()\n",
        "\n",
        "        self.conv3 = nn.Conv2d(bottle_channels, out_channels, kernel_size=1, stride=1)\n",
        "        self.bn3 = nn.BatchNorm2d(bottle_channels)\n",
        "        self.act3 = nn.ReLU()\n",
        "\n",
        "        self.shortcut = nn.Identity()\n",
        "        if stride != 1 or in_channels != out_channels:\n",
        "            self.shortcut = ShortcutBlock(in_channels, out_channels, stride=stride)\n",
        "\n",
        "    def forward(self, x:torch.Tensor):\n",
        "        shortcut = self.shortcut(x)\n",
        "        x = self.act1(self.bn1(self.conv1(x)))\n",
        "        x = self.act2(self.bn2(self.conv2(x)))\n",
        "        x = self.bn3(self.conv3(x))\n",
        "        return self.act3(x + shortcut)"
      ],
      "metadata": {
        "id": "49MR0gw5QmF_"
      },
      "execution_count": 10,
      "outputs": []
    },
    {
      "cell_type": "code",
      "source": [
        "class ResNet50(nn.Module):\n",
        "    def __init__(self, num_blocks: List[int], strides : List[int], first_kernel_size: int = 7, input_channels: int = 3, n_classes=10):\n",
        "        \"\"\"\n",
        "        MNIST 크기 (28 * 28)에 맞춰주기 위해 stride 크기 조정\n",
        "        \"\"\"\n",
        "        super().__init__()\n",
        "        self.firstconv = nn.Conv2d(input_channels, 64, kernel_size=first_kernel_size, stride=strides[0], padding=first_kernel_size//2)\n",
        "        self.bn1 = nn.BatchNorm2d(64)\n",
        "        self.act1 = nn.ReLU()\n",
        "        self.maxpool1 = nn.MaxPool2d(kernel_size=3)\n",
        "\n",
        "        self.layer1 = self._repeat_layers(64, 64, 256, stride=strides[1], n_count=num_blocks[0])\n",
        "        self.layer2 = self._repeat_layers(256, 128, 512, stride=strides[2], n_count=num_blocks[1])\n",
        "        self.layer3 = self._repeat_layers(512, 256, 1024, stride=strides[3], n_count=num_blocks[2])\n",
        "        self.layer4 = self._repeat_layers(1024, 512, 2048, stride=strides[4], n_count=num_blocks[3])\n",
        "\n",
        "        self.avg_pool = nn.AvgPool2d(kernel_size=4)\n",
        "        self.fc = self.Linear(2048, n_classes)\n",
        "    \n",
        "    def _repeat_layers(self, in_channels, bottle_channels, out_channels, stride, n_count):\n",
        "        layers = []\n",
        "        strides = [stride] + [1] * (n_count - 1)\n",
        "        for s in strides:\n",
        "            layers.append(BottleNeckBlock(in_channels, bottle_channels, out_channels, s))\n",
        "        return nn.Sequential(*layers)\n",
        "\n",
        "    def forward(self, x):\n",
        "        x = self.act1(self.bn1(self.firstconv(x)))\n",
        "        x = self.maxpool1(x)\n",
        "        x = self.layer1(x)\n",
        "        x = self.layer2(x)\n",
        "        x = self.layer3(x)\n",
        "        x = self.layer4(x)\n",
        "        x = self.avg_pool(x)\n",
        "        x = x.view(x.size(0), -1) # 2차원으로 만들어주기\n",
        "        x = self.fc(x)\n",
        "        return x\n",
        "\n",
        "def ResNet50_for_mnist_cifar():\n",
        "    return ResNet50(num_blocks=[3, 4, 6, 3], strides=[1, 1, 2, 2, 2],input_channels=3)"
      ],
      "metadata": {
        "id": "BkZ8uxP0Tzvf"
      },
      "execution_count": 14,
      "outputs": []
    },
    {
      "cell_type": "code",
      "source": [
        ""
      ],
      "metadata": {
        "id": "Af9us_SZeycx"
      },
      "execution_count": null,
      "outputs": []
    }
  ]
}
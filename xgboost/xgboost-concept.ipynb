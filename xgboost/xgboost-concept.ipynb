{
 "cells": [
  {
   "cell_type": "code",
   "execution_count": 1,
   "id": "cc4a91f1",
   "metadata": {
    "_cell_guid": "b1076dfc-b9ad-4769-8c92-a6c4dae69d19",
    "_uuid": "8f2839f25d086af736a60e9eeb907d3b93b6e0e5",
    "execution": {
     "iopub.execute_input": "2022-05-16T09:32:05.265276Z",
     "iopub.status.busy": "2022-05-16T09:32:05.264691Z",
     "iopub.status.idle": "2022-05-16T09:32:05.273209Z",
     "shell.execute_reply": "2022-05-16T09:32:05.272600Z"
    },
    "papermill": {
     "duration": 0.021454,
     "end_time": "2022-05-16T09:32:05.275435",
     "exception": false,
     "start_time": "2022-05-16T09:32:05.253981",
     "status": "completed"
    },
    "tags": []
   },
   "outputs": [],
   "source": [
    "# This Python 3 environment comes with many helpful analytics libraries installed\n",
    "# It is defined by the kaggle/python Docker image: https://github.com/kaggle/docker-python\n",
    "# For example, here's several helpful packages to load\n",
    "\n",
    "import numpy as np # linear algebra\n",
    "import pandas as pd # data processing, CSV file I/O (e.g. pd.read_csv)\n",
    "\n",
    "# Input data files are available in the read-only \"../input/\" directory\n",
    "# For example, running this (by clicking run or pressing Shift+Enter) will list all files under the input directory\n",
    "\n",
    "import os\n",
    "# for dirname, _, filenames in os.walk('/kaggle/input'):\n",
    "#     for filename in filenames:\n",
    "#         print(os.path.join(dirname, filename))\n",
    "\n",
    "# You can write up to 20GB to the current directory (/kaggle/working/) that gets preserved as output when you create a version using \"Save & Run All\" \n",
    "# You can also write temporary files to /kaggle/temp/, but they won't be saved outside of the current session"
   ]
  },
  {
   "cell_type": "code",
   "execution_count": 2,
   "id": "30ad4fb0",
   "metadata": {
    "execution": {
     "iopub.execute_input": "2022-05-16T09:32:05.291698Z",
     "iopub.status.busy": "2022-05-16T09:32:05.291195Z",
     "iopub.status.idle": "2022-05-16T09:32:06.619908Z",
     "shell.execute_reply": "2022-05-16T09:32:06.619002Z"
    },
    "papermill": {
     "duration": 1.339659,
     "end_time": "2022-05-16T09:32:06.622532",
     "exception": false,
     "start_time": "2022-05-16T09:32:05.282873",
     "status": "completed"
    },
    "tags": []
   },
   "outputs": [],
   "source": [
    "import pandas as pd\n",
    "import numpy as np\n",
    "import warnings\n",
    "warnings.filterwarnings('ignore')\n",
    "from sklearn.tree import DecisionTreeRegressor\n",
    "from sklearn.model_selection import train_test_split\n",
    "import datetime as dt"
   ]
  },
  {
   "cell_type": "code",
   "execution_count": 3,
   "id": "202698a3",
   "metadata": {
    "execution": {
     "iopub.execute_input": "2022-05-16T09:32:06.639462Z",
     "iopub.status.busy": "2022-05-16T09:32:06.638700Z",
     "iopub.status.idle": "2022-05-16T09:32:06.721075Z",
     "shell.execute_reply": "2022-05-16T09:32:06.720265Z"
    },
    "papermill": {
     "duration": 0.093197,
     "end_time": "2022-05-16T09:32:06.723425",
     "exception": false,
     "start_time": "2022-05-16T09:32:06.630228",
     "status": "completed"
    },
    "tags": []
   },
   "outputs": [
    {
     "data": {
      "text/html": [
       "<div>\n",
       "<style scoped>\n",
       "    .dataframe tbody tr th:only-of-type {\n",
       "        vertical-align: middle;\n",
       "    }\n",
       "\n",
       "    .dataframe tbody tr th {\n",
       "        vertical-align: top;\n",
       "    }\n",
       "\n",
       "    .dataframe thead th {\n",
       "        text-align: right;\n",
       "    }\n",
       "</style>\n",
       "<table border=\"1\" class=\"dataframe\">\n",
       "  <thead>\n",
       "    <tr style=\"text-align: right;\">\n",
       "      <th></th>\n",
       "      <th>season</th>\n",
       "      <th>holiday</th>\n",
       "      <th>workingday</th>\n",
       "      <th>weather</th>\n",
       "      <th>temp</th>\n",
       "      <th>atemp</th>\n",
       "      <th>humidity</th>\n",
       "      <th>windspeed</th>\n",
       "      <th>casual</th>\n",
       "      <th>registered</th>\n",
       "      <th>count</th>\n",
       "    </tr>\n",
       "  </thead>\n",
       "  <tbody>\n",
       "    <tr>\n",
       "      <th>0</th>\n",
       "      <td>1</td>\n",
       "      <td>0</td>\n",
       "      <td>0</td>\n",
       "      <td>1</td>\n",
       "      <td>9.84</td>\n",
       "      <td>14.395</td>\n",
       "      <td>81</td>\n",
       "      <td>0.0</td>\n",
       "      <td>3</td>\n",
       "      <td>13</td>\n",
       "      <td>16</td>\n",
       "    </tr>\n",
       "    <tr>\n",
       "      <th>1</th>\n",
       "      <td>1</td>\n",
       "      <td>0</td>\n",
       "      <td>0</td>\n",
       "      <td>1</td>\n",
       "      <td>9.02</td>\n",
       "      <td>13.635</td>\n",
       "      <td>80</td>\n",
       "      <td>0.0</td>\n",
       "      <td>8</td>\n",
       "      <td>32</td>\n",
       "      <td>40</td>\n",
       "    </tr>\n",
       "    <tr>\n",
       "      <th>2</th>\n",
       "      <td>1</td>\n",
       "      <td>0</td>\n",
       "      <td>0</td>\n",
       "      <td>1</td>\n",
       "      <td>9.02</td>\n",
       "      <td>13.635</td>\n",
       "      <td>80</td>\n",
       "      <td>0.0</td>\n",
       "      <td>5</td>\n",
       "      <td>27</td>\n",
       "      <td>32</td>\n",
       "    </tr>\n",
       "    <tr>\n",
       "      <th>3</th>\n",
       "      <td>1</td>\n",
       "      <td>0</td>\n",
       "      <td>0</td>\n",
       "      <td>1</td>\n",
       "      <td>9.84</td>\n",
       "      <td>14.395</td>\n",
       "      <td>75</td>\n",
       "      <td>0.0</td>\n",
       "      <td>3</td>\n",
       "      <td>10</td>\n",
       "      <td>13</td>\n",
       "    </tr>\n",
       "    <tr>\n",
       "      <th>4</th>\n",
       "      <td>1</td>\n",
       "      <td>0</td>\n",
       "      <td>0</td>\n",
       "      <td>1</td>\n",
       "      <td>9.84</td>\n",
       "      <td>14.395</td>\n",
       "      <td>75</td>\n",
       "      <td>0.0</td>\n",
       "      <td>0</td>\n",
       "      <td>1</td>\n",
       "      <td>1</td>\n",
       "    </tr>\n",
       "  </tbody>\n",
       "</table>\n",
       "</div>"
      ],
      "text/plain": [
       "   season  holiday  workingday  weather  temp   atemp  humidity  windspeed  \\\n",
       "0       1        0           0        1  9.84  14.395        81        0.0   \n",
       "1       1        0           0        1  9.02  13.635        80        0.0   \n",
       "2       1        0           0        1  9.02  13.635        80        0.0   \n",
       "3       1        0           0        1  9.84  14.395        75        0.0   \n",
       "4       1        0           0        1  9.84  14.395        75        0.0   \n",
       "\n",
       "   casual  registered  count  \n",
       "0       3          13     16  \n",
       "1       8          32     40  \n",
       "2       5          27     32  \n",
       "3       3          10     13  \n",
       "4       0           1      1  "
      ]
     },
     "execution_count": 3,
     "metadata": {},
     "output_type": "execute_result"
    }
   ],
   "source": [
    "df_train = pd.read_csv('../input/bike-sharing-demand/train.csv')\n",
    "df_train['windspeed'].fillna((df_train['windspeed'].median()), inplace=True)\n",
    "df_train['humidity'].fillna((df_train.groupby('season')['humidity'].transform('median')), inplace=True)\n",
    "mean_temp = (df_train.iloc[700]['temp'] + df_train.iloc[702]['temp']) / 2\n",
    "mean_atemp = (df_train.iloc[700]['atemp'] + df_train.iloc[702]['atemp']) / 2\n",
    "df_train['temp'].fillna((mean_temp), inplace=True)\n",
    "df_train['atemp'].fillna((mean_atemp), inplace=True)\n",
    "df_train = df_train.drop('datetime', axis=1)\n",
    "df_train.head()"
   ]
  },
  {
   "cell_type": "code",
   "execution_count": 4,
   "id": "6f60af85",
   "metadata": {
    "execution": {
     "iopub.execute_input": "2022-05-16T09:32:06.741442Z",
     "iopub.status.busy": "2022-05-16T09:32:06.741074Z",
     "iopub.status.idle": "2022-05-16T09:32:06.750867Z",
     "shell.execute_reply": "2022-05-16T09:32:06.750104Z"
    },
    "papermill": {
     "duration": 0.021297,
     "end_time": "2022-05-16T09:32:06.752805",
     "exception": false,
     "start_time": "2022-05-16T09:32:06.731508",
     "status": "completed"
    },
    "tags": []
   },
   "outputs": [],
   "source": [
    "X = df_train.iloc[:,:-1]\n",
    "y = df_train.iloc[:,-1]\n",
    "X_train, X_test, y_train, y_test = train_test_split(X, y, random_state=2022)"
   ]
  },
  {
   "cell_type": "code",
   "execution_count": 5,
   "id": "0081f108",
   "metadata": {
    "execution": {
     "iopub.execute_input": "2022-05-16T09:32:06.770020Z",
     "iopub.status.busy": "2022-05-16T09:32:06.769755Z",
     "iopub.status.idle": "2022-05-16T09:32:06.775142Z",
     "shell.execute_reply": "2022-05-16T09:32:06.774022Z"
    },
    "papermill": {
     "duration": 0.016669,
     "end_time": "2022-05-16T09:32:06.777273",
     "exception": false,
     "start_time": "2022-05-16T09:32:06.760604",
     "status": "completed"
    },
    "tags": []
   },
   "outputs": [],
   "source": [
    "res_1 = y_train - np.mean(y_train) # xgboost의 기본 첫 학습값은 회귀->평균, 분류->다수인 클래스 레이블"
   ]
  },
  {
   "cell_type": "code",
   "execution_count": 6,
   "id": "69757645",
   "metadata": {
    "execution": {
     "iopub.execute_input": "2022-05-16T09:32:06.795313Z",
     "iopub.status.busy": "2022-05-16T09:32:06.794509Z",
     "iopub.status.idle": "2022-05-16T09:32:06.812092Z",
     "shell.execute_reply": "2022-05-16T09:32:06.811276Z"
    },
    "papermill": {
     "duration": 0.029217,
     "end_time": "2022-05-16T09:32:06.814489",
     "exception": false,
     "start_time": "2022-05-16T09:32:06.785272",
     "status": "completed"
    },
    "tags": []
   },
   "outputs": [],
   "source": [
    "tree_1 = DecisionTreeRegressor(max_depth=2, random_state=2022)\n",
    "tree_1.fit(X_train, res_1)\n",
    "pred_1 = tree_1.predict(X_train)\n",
    "res_2 = y_train - pred_1"
   ]
  },
  {
   "cell_type": "code",
   "execution_count": 7,
   "id": "cc4815f2",
   "metadata": {
    "execution": {
     "iopub.execute_input": "2022-05-16T09:32:06.831688Z",
     "iopub.status.busy": "2022-05-16T09:32:06.831408Z",
     "iopub.status.idle": "2022-05-16T09:32:06.845896Z",
     "shell.execute_reply": "2022-05-16T09:32:06.845296Z"
    },
    "papermill": {
     "duration": 0.025555,
     "end_time": "2022-05-16T09:32:06.847958",
     "exception": false,
     "start_time": "2022-05-16T09:32:06.822403",
     "status": "completed"
    },
    "tags": []
   },
   "outputs": [],
   "source": [
    "tree_2  = DecisionTreeRegressor(max_depth=2, random_state=2022)\n",
    "tree_2.fit(X_train, res_2)\n",
    "pred_2 = tree_2.predict(X_train)\n",
    "res_3 = y_train - (pred_1 + pred_2)"
   ]
  },
  {
   "cell_type": "code",
   "execution_count": 8,
   "id": "ac05b685",
   "metadata": {
    "execution": {
     "iopub.execute_input": "2022-05-16T09:32:06.865570Z",
     "iopub.status.busy": "2022-05-16T09:32:06.864882Z",
     "iopub.status.idle": "2022-05-16T09:32:06.884292Z",
     "shell.execute_reply": "2022-05-16T09:32:06.883444Z"
    },
    "papermill": {
     "duration": 0.030805,
     "end_time": "2022-05-16T09:32:06.886571",
     "exception": false,
     "start_time": "2022-05-16T09:32:06.855766",
     "status": "completed"
    },
    "tags": []
   },
   "outputs": [
    {
     "data": {
      "text/plain": [
       "46.600805543061114"
      ]
     },
     "execution_count": 8,
     "metadata": {},
     "output_type": "execute_result"
    }
   ],
   "source": [
    "tree_3 = DecisionTreeRegressor(max_depth=2, random_state=2022)\n",
    "tree_3.fit(X_train, res_3)\n",
    "\n",
    "from sklearn.metrics import mean_squared_error\n",
    "\n",
    "pred_all = tree_1.predict(X_test) + tree_2.predict(X_test) + tree_3.predict(X_test)\n",
    "mean_squared_error(y_test, pred_all, squared=False)"
   ]
  }
 ],
 "metadata": {
  "kernelspec": {
   "display_name": "Python 3",
   "language": "python",
   "name": "python3"
  },
  "language_info": {
   "codemirror_mode": {
    "name": "ipython",
    "version": 3
   },
   "file_extension": ".py",
   "mimetype": "text/x-python",
   "name": "python",
   "nbconvert_exporter": "python",
   "pygments_lexer": "ipython3",
   "version": "3.7.12"
  },
  "papermill": {
   "default_parameters": {},
   "duration": 11.291026,
   "end_time": "2022-05-16T09:32:07.615807",
   "environment_variables": {},
   "exception": null,
   "input_path": "__notebook__.ipynb",
   "output_path": "__notebook__.ipynb",
   "parameters": {},
   "start_time": "2022-05-16T09:31:56.324781",
   "version": "2.3.4"
  }
 },
 "nbformat": 4,
 "nbformat_minor": 5
}
